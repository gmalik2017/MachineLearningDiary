{
 "cells": [
  {
   "cell_type": "code",
   "execution_count": 1,
   "metadata": {},
   "outputs": [],
   "source": [
    "import os\n",
    "#print(os.listdir(\"../input\"))\n",
    "\n",
    "import pandas as pd\n",
    "import numpy as np\n",
    "from scipy.stats import randint\n",
    "import seaborn as sns # used for plot interactive graph. \n",
    "import matplotlib.pyplot as plt\n",
    "import seaborn as sns\n",
    "from io import StringIO\n",
    "from sklearn.feature_extraction.text import TfidfVectorizer\n",
    "from sklearn.feature_selection import chi2\n",
    "from IPython.display import display\n",
    "from sklearn.model_selection import train_test_split\n",
    "from sklearn.feature_extraction.text import TfidfTransformer\n",
    "from sklearn.naive_bayes import MultinomialNB\n",
    "from sklearn.linear_model import LogisticRegression\n",
    "from sklearn.ensemble import RandomForestClassifier\n",
    "from sklearn.svm import LinearSVC\n",
    "from sklearn.svm import SVC\n",
    "from sklearn.model_selection import cross_val_score\n",
    "from sklearn.metrics import confusion_matrix\n",
    "from sklearn import metrics\n",
    "import re\n",
    "import collections\n",
    " \n",
    "try:\n",
    "    from collections import OrderedDict\n",
    "except ImportError:\n",
    "    OrderedDict = dict"
   ]
  },
  {
   "cell_type": "code",
   "execution_count": 2,
   "metadata": {},
   "outputs": [
    {
     "name": "stdout",
     "output_type": "stream",
     "text": [
      "   issue_id                                            message\n",
      "0     MRM-1               fixed in svn, will deploy very soon.\n",
      "1    MRM-10                               no longer in Archiva\n",
      "2   MRM-100  This is already a plexus objject... just need ...\n",
      "3  MRM-1000  Committed in r713649.\\r\\n\\r\\nThanks Martin for...\n",
      "4  MRM-1001  There is some discussion on dev@continuum abou...\n"
     ]
    }
   ],
   "source": [
    "#read data\n",
    "df_is_comments= pd.read_csv (\"C:/Garima/AI/AIBugTriaging/csvdata/issue_comment.csv\", encoding ='latin1') \n",
    "df_is= pd.read_csv (\"C:/Garima/AI/AIBugTriaging/csvdata/issue.csv\", encoding ='latin1') \n",
    "df_is_comp= pd.read_csv (\"C:/Garima/AI/AIBugTriaging/csvdata/issue_component.csv\", encoding ='latin1')\n",
    "\n",
    "df_is_comments= df_is_comments[[\"issue_id\",\"message\"]]\n",
    "\n",
    "#Concatenate issue comments message along the issue id\n",
    "df_is_comments=df_is_comments.groupby('issue_id')['message'].apply(' '.join).reset_index()\n",
    "print(df_is_comments.head())\n",
    "df_is =df_is[['issue_id','summary','description']]\n",
    "df_is['summary']=df_is['summary'] + ' ' + df_is['description']\n",
    "df_is =df_is[['issue_id','summary']]\n",
    "df_is_wth_comp=pd.merge(df_is,df_is_comp,on=\"issue_id\")\n",
    "df_is_wth_comm= pd.merge(df_is_wth_comp, df_is_comments, on=\"issue_id\")\n"
   ]
  },
  {
   "cell_type": "code",
   "execution_count": 3,
   "metadata": {},
   "outputs": [
    {
     "name": "stdout",
     "output_type": "stream",
     "text": [
      "***Count NaN in each column of a DataFrame with comp***\n",
      "Nan in each columns\n",
      "issue_id       0\n",
      "summary      231\n",
      "component      0\n",
      "dtype: int64\n",
      "***Count NaN in each column of a DataFrame with comp and comments***\n",
      "Nan in each columns\n",
      "issue_id       0\n",
      "summary      171\n",
      "component      0\n",
      "message        0\n",
      "dtype: int64\n"
     ]
    }
   ],
   "source": [
    " print(\"***Count NaN in each column of a DataFrame with comp***\")\n",
    "\n",
    "print(\"Nan in each columns\" , df_is_wth_comp.isnull().sum(), sep='\\n')\n",
    "\n",
    " print(\"***Count NaN in each column of a DataFrame with comp and comments***\")\n",
    "\n",
    "print(\"Nan in each columns\" , df_is_wth_comm.isnull().sum(), sep='\\n')"
   ]
  },
  {
   "cell_type": "code",
   "execution_count": 4,
   "metadata": {},
   "outputs": [],
   "source": [
    "#Make data ready by concatenating and selecting required columns also copy data in csv'\n",
    "df_is_wth_commf=df_is_wth_comm\n",
    "df_is_wth_commf['summary']=df_is_wth_commf['summary'] + df_is_wth_commf['message']\n",
    "df_is_wth_commf =df_is_wth_commf[['issue_id','component','summary']]\n",
    "df_is_wth_comm.to_csv('C:/Garima/AI/AIBugTriaging/csvdata/df_is_wth_comm.csv')"
   ]
  },
  {
   "cell_type": "code",
   "execution_count": 5,
   "metadata": {},
   "outputs": [
    {
     "data": {
      "text/plain": [
       "1227"
      ]
     },
     "execution_count": 5,
     "metadata": {},
     "output_type": "execute_result"
    }
   ],
   "source": [
    "len(df_is_wth_comm)"
   ]
  },
  {
   "cell_type": "code",
   "execution_count": 6,
   "metadata": {},
   "outputs": [
    {
     "name": "stdout",
     "output_type": "stream",
     "text": [
      "(1227, 4)\n"
     ]
    },
    {
     "data": {
      "text/html": [
       "<div>\n",
       "<style scoped>\n",
       "    .dataframe tbody tr th:only-of-type {\n",
       "        vertical-align: middle;\n",
       "    }\n",
       "\n",
       "    .dataframe tbody tr th {\n",
       "        vertical-align: top;\n",
       "    }\n",
       "\n",
       "    .dataframe thead th {\n",
       "        text-align: right;\n",
       "    }\n",
       "</style>\n",
       "<table border=\"1\" class=\"dataframe\">\n",
       "  <thead>\n",
       "    <tr style=\"text-align: right;\">\n",
       "      <th></th>\n",
       "      <th>0</th>\n",
       "      <th>1</th>\n",
       "      <th>2</th>\n",
       "      <th>3</th>\n",
       "      <th>4</th>\n",
       "    </tr>\n",
       "  </thead>\n",
       "  <tbody>\n",
       "    <tr>\n",
       "      <th>issue_id</th>\n",
       "      <td>MRM-402</td>\n",
       "      <td>MRM-493</td>\n",
       "      <td>MRM-452</td>\n",
       "      <td>MRM-433</td>\n",
       "      <td>MRM-420</td>\n",
       "    </tr>\n",
       "    <tr>\n",
       "      <th>summary</th>\n",
       "      <td>javadoc jar is listed as just jar in the downl...</td>\n",
       "      <td>Downloaded artifacts are stored in incorrect a...</td>\n",
       "      <td>repository purge consumer should check that it...</td>\n",
       "      <td>NaN</td>\n",
       "      <td>Editing a network proxy creates a new network ...</td>\n",
       "    </tr>\n",
       "    <tr>\n",
       "      <th>component</th>\n",
       "      <td>Web Interface</td>\n",
       "      <td>remote proxy</td>\n",
       "      <td>repository scanning</td>\n",
       "      <td>repository interface</td>\n",
       "      <td>remote proxy</td>\n",
       "    </tr>\n",
       "    <tr>\n",
       "      <th>message</th>\n",
       "      <td>Attached image of what happens.\\r\\n\\r\\nThe lis...</td>\n",
       "      <td>MRM-518 has been marked as a duplicate of this...</td>\n",
       "      <td>this may not be a major issue, since the datab...</td>\n",
       "      <td>It doesn't seem possible to access artifacts w...</td>\n",
       "      <td>The attribute \"disabled\" of the proxy.id input...</td>\n",
       "    </tr>\n",
       "  </tbody>\n",
       "</table>\n",
       "</div>"
      ],
      "text/plain": [
       "                                                           0  \\\n",
       "issue_id                                             MRM-402   \n",
       "summary    javadoc jar is listed as just jar in the downl...   \n",
       "component                                      Web Interface   \n",
       "message    Attached image of what happens.\\r\\n\\r\\nThe lis...   \n",
       "\n",
       "                                                           1  \\\n",
       "issue_id                                             MRM-493   \n",
       "summary    Downloaded artifacts are stored in incorrect a...   \n",
       "component                                       remote proxy   \n",
       "message    MRM-518 has been marked as a duplicate of this...   \n",
       "\n",
       "                                                           2  \\\n",
       "issue_id                                             MRM-452   \n",
       "summary    repository purge consumer should check that it...   \n",
       "component                                repository scanning   \n",
       "message    this may not be a major issue, since the datab...   \n",
       "\n",
       "                                                           3  \\\n",
       "issue_id                                             MRM-433   \n",
       "summary                                                  NaN   \n",
       "component                               repository interface   \n",
       "message    It doesn't seem possible to access artifacts w...   \n",
       "\n",
       "                                                           4  \n",
       "issue_id                                             MRM-420  \n",
       "summary    Editing a network proxy creates a new network ...  \n",
       "component                                       remote proxy  \n",
       "message    The attribute \"disabled\" of the proxy.id input...  "
      ]
     },
     "execution_count": 6,
     "metadata": {},
     "output_type": "execute_result"
    }
   ],
   "source": [
    "print(df_is_wth_comm.shape)\n",
    "df_is_wth_comm.head(5).T"
   ]
  },
  {
   "cell_type": "code",
   "execution_count": 7,
   "metadata": {},
   "outputs": [
    {
     "name": "stdout",
     "output_type": "stream",
     "text": [
      "***Count NaN in each column of a DataFrame with comp and comments***\n",
      "Nan in each columns\n",
      "issue_id     0\n",
      "component    0\n",
      "summary      0\n",
      "dtype: int64\n"
     ]
    },
    {
     "data": {
      "text/plain": [
       "1044"
      ]
     },
     "execution_count": 7,
     "metadata": {},
     "output_type": "execute_result"
    }
   ],
   "source": [
    "#Data exploration\n",
    "df_is_wth_commf = df_is_wth_commf[df_is_wth_commf['summary'].notna()].reset_index(drop=True)\n",
    "print(\"***Count NaN in each column of a DataFrame with comp and comments***\")\n",
    "\n",
    "print(\"Nan in each columns\" , df_is_wth_commf.isnull().sum(), sep='\\n')\n",
    "\n",
    "#Drop some of the categories\n",
    "indexNames = df_is_wth_commf[ (df_is_wth_commf['component'] == 'Selenium tests') | (df_is_wth_commf['component'] == 'Audit Logging') | (df_is_wth_commf['component'] == 'Problem Reporting')\n",
    "                            | (df_is_wth_commf['component'] == 'Repository Statistics')].index\n",
    "\n",
    "df_is_wth_commf.drop(indexNames , inplace=True)\n",
    "df_is_wth_commf.reset_index(inplace=True)\n",
    "len(df_is_wth_commf)"
   ]
  },
  {
   "cell_type": "code",
   "execution_count": 8,
   "metadata": {},
   "outputs": [
    {
     "data": {
      "text/html": [
       "<div>\n",
       "<style scoped>\n",
       "    .dataframe tbody tr th:only-of-type {\n",
       "        vertical-align: middle;\n",
       "    }\n",
       "\n",
       "    .dataframe tbody tr th {\n",
       "        vertical-align: top;\n",
       "    }\n",
       "\n",
       "    .dataframe thead th {\n",
       "        text-align: right;\n",
       "    }\n",
       "</style>\n",
       "<table border=\"1\" class=\"dataframe\">\n",
       "  <thead>\n",
       "    <tr style=\"text-align: right;\">\n",
       "      <th></th>\n",
       "      <th>0</th>\n",
       "      <th>1</th>\n",
       "      <th>2</th>\n",
       "      <th>3</th>\n",
       "      <th>4</th>\n",
       "    </tr>\n",
       "  </thead>\n",
       "  <tbody>\n",
       "    <tr>\n",
       "      <th>index</th>\n",
       "      <td>0</td>\n",
       "      <td>1</td>\n",
       "      <td>2</td>\n",
       "      <td>3</td>\n",
       "      <td>4</td>\n",
       "    </tr>\n",
       "    <tr>\n",
       "      <th>issue_id</th>\n",
       "      <td>MRM-402</td>\n",
       "      <td>MRM-493</td>\n",
       "      <td>MRM-452</td>\n",
       "      <td>MRM-420</td>\n",
       "      <td>MRM-420</td>\n",
       "    </tr>\n",
       "    <tr>\n",
       "      <th>component</th>\n",
       "      <td>Web Interface</td>\n",
       "      <td>remote proxy</td>\n",
       "      <td>repository scanning</td>\n",
       "      <td>remote proxy</td>\n",
       "      <td>Web Interface</td>\n",
       "    </tr>\n",
       "    <tr>\n",
       "      <th>summary</th>\n",
       "      <td>javadoc jar is listed as just jar in the downl...</td>\n",
       "      <td>Downloaded artifacts are stored in incorrect a...</td>\n",
       "      <td>repository purge consumer should check that it...</td>\n",
       "      <td>Editing a network proxy creates a new network ...</td>\n",
       "      <td>Editing a network proxy creates a new network ...</td>\n",
       "    </tr>\n",
       "  </tbody>\n",
       "</table>\n",
       "</div>"
      ],
      "text/plain": [
       "                                                           0  \\\n",
       "index                                                      0   \n",
       "issue_id                                             MRM-402   \n",
       "component                                      Web Interface   \n",
       "summary    javadoc jar is listed as just jar in the downl...   \n",
       "\n",
       "                                                           1  \\\n",
       "index                                                      1   \n",
       "issue_id                                             MRM-493   \n",
       "component                                       remote proxy   \n",
       "summary    Downloaded artifacts are stored in incorrect a...   \n",
       "\n",
       "                                                           2  \\\n",
       "index                                                      2   \n",
       "issue_id                                             MRM-452   \n",
       "component                                repository scanning   \n",
       "summary    repository purge consumer should check that it...   \n",
       "\n",
       "                                                           3  \\\n",
       "index                                                      3   \n",
       "issue_id                                             MRM-420   \n",
       "component                                       remote proxy   \n",
       "summary    Editing a network proxy creates a new network ...   \n",
       "\n",
       "                                                           4  \n",
       "index                                                      4  \n",
       "issue_id                                             MRM-420  \n",
       "component                                      Web Interface  \n",
       "summary    Editing a network proxy creates a new network ...  "
      ]
     },
     "execution_count": 8,
     "metadata": {},
     "output_type": "execute_result"
    }
   ],
   "source": [
    "df_is_wth_commf.head(5).T"
   ]
  },
  {
   "cell_type": "code",
   "execution_count": 9,
   "metadata": {},
   "outputs": [
    {
     "data": {
      "text/html": [
       "<div>\n",
       "<style scoped>\n",
       "    .dataframe tbody tr th:only-of-type {\n",
       "        vertical-align: middle;\n",
       "    }\n",
       "\n",
       "    .dataframe tbody tr th {\n",
       "        vertical-align: top;\n",
       "    }\n",
       "\n",
       "    .dataframe thead th {\n",
       "        text-align: right;\n",
       "    }\n",
       "</style>\n",
       "<table border=\"1\" class=\"dataframe\">\n",
       "  <thead>\n",
       "    <tr style=\"text-align: right;\">\n",
       "      <th></th>\n",
       "      <th>0</th>\n",
       "    </tr>\n",
       "  </thead>\n",
       "  <tbody>\n",
       "    <tr>\n",
       "      <th>0</th>\n",
       "      <td>Web Interface</td>\n",
       "    </tr>\n",
       "    <tr>\n",
       "      <th>1</th>\n",
       "      <td>remote proxy</td>\n",
       "    </tr>\n",
       "    <tr>\n",
       "      <th>2</th>\n",
       "      <td>repository scanning</td>\n",
       "    </tr>\n",
       "    <tr>\n",
       "      <th>3</th>\n",
       "      <td>Documentation</td>\n",
       "    </tr>\n",
       "    <tr>\n",
       "      <th>4</th>\n",
       "      <td>WebDAV Interface</td>\n",
       "    </tr>\n",
       "    <tr>\n",
       "      <th>5</th>\n",
       "      <td>indexing</td>\n",
       "    </tr>\n",
       "    <tr>\n",
       "      <th>6</th>\n",
       "      <td>repository interface</td>\n",
       "    </tr>\n",
       "    <tr>\n",
       "      <th>7</th>\n",
       "      <td>browser</td>\n",
       "    </tr>\n",
       "    <tr>\n",
       "      <th>8</th>\n",
       "      <td>scheduling</td>\n",
       "    </tr>\n",
       "    <tr>\n",
       "      <th>9</th>\n",
       "      <td>Users/Security</td>\n",
       "    </tr>\n",
       "    <tr>\n",
       "      <th>10</th>\n",
       "      <td>Build</td>\n",
       "    </tr>\n",
       "    <tr>\n",
       "      <th>11</th>\n",
       "      <td>system</td>\n",
       "    </tr>\n",
       "    <tr>\n",
       "      <th>12</th>\n",
       "      <td>Design</td>\n",
       "    </tr>\n",
       "    <tr>\n",
       "      <th>13</th>\n",
       "      <td>rest services</td>\n",
       "    </tr>\n",
       "    <tr>\n",
       "      <th>14</th>\n",
       "      <td>Maven 2 Support</td>\n",
       "    </tr>\n",
       "    <tr>\n",
       "      <th>15</th>\n",
       "      <td>Metadata Repository</td>\n",
       "    </tr>\n",
       "    <tr>\n",
       "      <th>16</th>\n",
       "      <td>search</td>\n",
       "    </tr>\n",
       "    <tr>\n",
       "      <th>17</th>\n",
       "      <td>reporting</td>\n",
       "    </tr>\n",
       "    <tr>\n",
       "      <th>18</th>\n",
       "      <td>repository converter</td>\n",
       "    </tr>\n",
       "    <tr>\n",
       "      <th>19</th>\n",
       "      <td>redback</td>\n",
       "    </tr>\n",
       "  </tbody>\n",
       "</table>\n",
       "</div>"
      ],
      "text/plain": [
       "                       0\n",
       "0          Web Interface\n",
       "1           remote proxy\n",
       "2    repository scanning\n",
       "3          Documentation\n",
       "4       WebDAV Interface\n",
       "5               indexing\n",
       "6   repository interface\n",
       "7                browser\n",
       "8             scheduling\n",
       "9         Users/Security\n",
       "10                 Build\n",
       "11                system\n",
       "12                Design\n",
       "13         rest services\n",
       "14       Maven 2 Support\n",
       "15   Metadata Repository\n",
       "16                search\n",
       "17             reporting\n",
       "18  repository converter\n",
       "19               redback"
      ]
     },
     "execution_count": 9,
     "metadata": {},
     "output_type": "execute_result"
    }
   ],
   "source": [
    "#Data exploration continued\n",
    "pd.DataFrame(df_is_wth_commf.component.unique())"
   ]
  },
  {
   "cell_type": "code",
   "execution_count": 10,
   "metadata": {},
   "outputs": [],
   "source": [
    "#combine component types\n",
    "df_is_wth_commf.replace({'component': \n",
    "             {'browser': 'browser and search',\n",
    "              'search' : 'browser and search',\n",
    "              'indexing' : 'browser and search',\n",
    "              'Design' : 'system',\n",
    "              'scheduling' : 'system',\n",
    "              'Maven 2 Support' : 'others',\n",
    "              'redback' : 'others',\n",
    "              'WebDAV Interface' : 'web',\n",
    "              'Metadata Repository' : 'repository',\n",
    "              'repository converter' : 'repository',\n",
    "              'repository interface' : 'repository',\n",
    "              'repository scanning' : 'repository',\n",
    "              'rest services' : 'web',\n",
    "              'Web Interface' : 'web',\n",
    "              'reporting' : 'reporting and logging',\n",
    "              }},inplace= True)"
   ]
  },
  {
   "cell_type": "code",
   "execution_count": 11,
   "metadata": {},
   "outputs": [
    {
     "data": {
      "text/html": [
       "<div>\n",
       "<style scoped>\n",
       "    .dataframe tbody tr th:only-of-type {\n",
       "        vertical-align: middle;\n",
       "    }\n",
       "\n",
       "    .dataframe tbody tr th {\n",
       "        vertical-align: top;\n",
       "    }\n",
       "\n",
       "    .dataframe thead th {\n",
       "        text-align: right;\n",
       "    }\n",
       "</style>\n",
       "<table border=\"1\" class=\"dataframe\">\n",
       "  <thead>\n",
       "    <tr style=\"text-align: right;\">\n",
       "      <th></th>\n",
       "      <th>0</th>\n",
       "    </tr>\n",
       "  </thead>\n",
       "  <tbody>\n",
       "    <tr>\n",
       "      <th>0</th>\n",
       "      <td>web</td>\n",
       "    </tr>\n",
       "    <tr>\n",
       "      <th>1</th>\n",
       "      <td>remote proxy</td>\n",
       "    </tr>\n",
       "    <tr>\n",
       "      <th>2</th>\n",
       "      <td>repository</td>\n",
       "    </tr>\n",
       "    <tr>\n",
       "      <th>3</th>\n",
       "      <td>Documentation</td>\n",
       "    </tr>\n",
       "    <tr>\n",
       "      <th>4</th>\n",
       "      <td>browser and search</td>\n",
       "    </tr>\n",
       "    <tr>\n",
       "      <th>5</th>\n",
       "      <td>system</td>\n",
       "    </tr>\n",
       "    <tr>\n",
       "      <th>6</th>\n",
       "      <td>Users/Security</td>\n",
       "    </tr>\n",
       "    <tr>\n",
       "      <th>7</th>\n",
       "      <td>Build</td>\n",
       "    </tr>\n",
       "    <tr>\n",
       "      <th>8</th>\n",
       "      <td>others</td>\n",
       "    </tr>\n",
       "    <tr>\n",
       "      <th>9</th>\n",
       "      <td>reporting and logging</td>\n",
       "    </tr>\n",
       "  </tbody>\n",
       "</table>\n",
       "</div>"
      ],
      "text/plain": [
       "                       0\n",
       "0                    web\n",
       "1           remote proxy\n",
       "2             repository\n",
       "3          Documentation\n",
       "4     browser and search\n",
       "5                 system\n",
       "6         Users/Security\n",
       "7                  Build\n",
       "8                 others\n",
       "9  reporting and logging"
      ]
     },
     "execution_count": 11,
     "metadata": {},
     "output_type": "execute_result"
    }
   ],
   "source": [
    "#Data exploration continued\n",
    "pd.DataFrame(df_is_wth_commf.component.unique())"
   ]
  },
  {
   "cell_type": "code",
   "execution_count": 12,
   "metadata": {},
   "outputs": [
    {
     "data": {
      "text/html": [
       "<div>\n",
       "<style scoped>\n",
       "    .dataframe tbody tr th:only-of-type {\n",
       "        vertical-align: middle;\n",
       "    }\n",
       "\n",
       "    .dataframe tbody tr th {\n",
       "        vertical-align: top;\n",
       "    }\n",
       "\n",
       "    .dataframe thead th {\n",
       "        text-align: right;\n",
       "    }\n",
       "</style>\n",
       "<table border=\"1\" class=\"dataframe\">\n",
       "  <thead>\n",
       "    <tr style=\"text-align: right;\">\n",
       "      <th></th>\n",
       "      <th>index</th>\n",
       "      <th>issue_id</th>\n",
       "      <th>component</th>\n",
       "      <th>summary</th>\n",
       "      <th>category_id</th>\n",
       "    </tr>\n",
       "  </thead>\n",
       "  <tbody>\n",
       "    <tr>\n",
       "      <th>0</th>\n",
       "      <td>0</td>\n",
       "      <td>MRM-402</td>\n",
       "      <td>web</td>\n",
       "      <td>javadoc jar is listed as just jar in the downl...</td>\n",
       "      <td>0</td>\n",
       "    </tr>\n",
       "    <tr>\n",
       "      <th>1</th>\n",
       "      <td>1</td>\n",
       "      <td>MRM-493</td>\n",
       "      <td>remote proxy</td>\n",
       "      <td>Downloaded artifacts are stored in incorrect a...</td>\n",
       "      <td>1</td>\n",
       "    </tr>\n",
       "    <tr>\n",
       "      <th>2</th>\n",
       "      <td>2</td>\n",
       "      <td>MRM-452</td>\n",
       "      <td>repository</td>\n",
       "      <td>repository purge consumer should check that it...</td>\n",
       "      <td>2</td>\n",
       "    </tr>\n",
       "    <tr>\n",
       "      <th>3</th>\n",
       "      <td>3</td>\n",
       "      <td>MRM-420</td>\n",
       "      <td>remote proxy</td>\n",
       "      <td>Editing a network proxy creates a new network ...</td>\n",
       "      <td>1</td>\n",
       "    </tr>\n",
       "    <tr>\n",
       "      <th>4</th>\n",
       "      <td>4</td>\n",
       "      <td>MRM-420</td>\n",
       "      <td>web</td>\n",
       "      <td>Editing a network proxy creates a new network ...</td>\n",
       "      <td>0</td>\n",
       "    </tr>\n",
       "  </tbody>\n",
       "</table>\n",
       "</div>"
      ],
      "text/plain": [
       "   index issue_id     component  \\\n",
       "0      0  MRM-402           web   \n",
       "1      1  MRM-493  remote proxy   \n",
       "2      2  MRM-452    repository   \n",
       "3      3  MRM-420  remote proxy   \n",
       "4      4  MRM-420           web   \n",
       "\n",
       "                                             summary  category_id  \n",
       "0  javadoc jar is listed as just jar in the downl...            0  \n",
       "1  Downloaded artifacts are stored in incorrect a...            1  \n",
       "2  repository purge consumer should check that it...            2  \n",
       "3  Editing a network proxy creates a new network ...            1  \n",
       "4  Editing a network proxy creates a new network ...            0  "
      ]
     },
     "execution_count": 12,
     "metadata": {},
     "output_type": "execute_result"
    }
   ],
   "source": [
    "# Create a new column 'category_id' with encoded categories \n",
    "df_is_wth_commf['category_id'] = df_is_wth_commf['component'].factorize()[0]\n",
    "category_id_df = df_is_wth_commf[['component', 'category_id']].drop_duplicates()\n",
    "\n",
    "\n",
    "# Dictionaries for future use\n",
    "category_to_id = dict(category_id_df.values)\n",
    "id_to_category = dict(category_id_df[['category_id', 'component']].values)\n",
    "\n",
    "# New dataframe\n",
    "df_is_wth_commf.head()"
   ]
  },
  {
   "cell_type": "code",
   "execution_count": 13,
   "metadata": {},
   "outputs": [
    {
     "name": "stdout",
     "output_type": "stream",
     "text": [
      "{'web': 0, 'remote proxy': 1, 'repository': 2, 'Documentation': 3, 'browser and search': 4, 'system': 5, 'Users/Security': 6, 'Build': 7, 'others': 8, 'reporting and logging': 9}\n",
      "{0: 'web', 1: 'remote proxy', 2: 'repository', 3: 'Documentation', 4: 'browser and search', 5: 'system', 6: 'Users/Security', 7: 'Build', 8: 'others', 9: 'reporting and logging'}\n"
     ]
    }
   ],
   "source": [
    "print(category_to_id)\n",
    "print(id_to_category)"
   ]
  },
  {
   "cell_type": "code",
   "execution_count": 14,
   "metadata": {},
   "outputs": [
    {
     "data": {
      "image/png": "[encoded data removed]",
      "text/plain": [
       "<Figure size 576x432 with 1 Axes>"
      ]
     },
     "metadata": {},
     "output_type": "display_data"
    }
   ],
   "source": [
    "#number of entries per category\n",
    "fig = plt.figure(figsize=(8,6))\n",
    "colors = ['grey','grey','grey','grey','grey','grey','grey','grey','grey',\n",
    "    'grey','darkblue','darkblue','darkblue']\n",
    "df_is_wth_commf.groupby('component').category_id.count().sort_values().plot.barh(\n",
    "    ylim=0, color=colors, title= 'NUMBER OF BUGS IN EACH CATEGORY\\n')\n",
    "plt.xlabel('Number of ocurrences', fontsize = 10);"
   ]
  },
  {
   "cell_type": "code",
   "execution_count": 15,
   "metadata": {},
   "outputs": [],
   "source": [
    "#clean data\n",
    "data = df_is_wth_commf.summary.values.tolist()\n",
    "data = [re.sub(\"^https?:\\/\\/.*[\\r\\n]*\", \" \", str(sent)) for sent in data]\n",
    "data = [re.sub(r'\\s+', ' ', str(sent)) for sent in data]\n",
    "#data = [re.sub(\"\\'\", \"\", str(sent)) for sent in data]\n",
    "#remove all non alpha numeric characters\n",
    "#data = [re.sub(\"[^a-zA-Z0-9 -]\", \" \", str(sent)) for sent in data]\n",
    "#find multiple occurence of a dinle character in a string, or look at regx table\n",
    "#data = [re.sub(\"\\w+(\\_|\\.)\\w+\", \" \", str(sent)) for sent in data]\n",
    "data = [re.sub(\"[^a-zA-Z]\", \" \", str(sent)) for sent in data]\n",
    "#replace multiple white spaces\n",
    "data = [re.sub(\"/\\s\\s+/g\", \" \", str(sent)) for sent in data]\n",
    "\n"
   ]
  },
  {
   "cell_type": "code",
   "execution_count": 16,
   "metadata": {},
   "outputs": [
    {
     "data": {
      "text/plain": [
       "1044"
      ]
     },
     "execution_count": 16,
     "metadata": {},
     "output_type": "execute_result"
    }
   ],
   "source": [
    "df_data= pd.DataFrame(data, columns =['description'])\n",
    "len(df_data)\n"
   ]
  },
  {
   "cell_type": "code",
   "execution_count": 17,
   "metadata": {},
   "outputs": [
    {
     "data": {
      "text/plain": [
       "1044"
      ]
     },
     "execution_count": 17,
     "metadata": {},
     "output_type": "execute_result"
    }
   ],
   "source": [
    "df_data= pd.concat([df_is_wth_commf,df_data], axis=1)\n",
    "df_data.to_csv(\"C:/Garima/AI/AIBugTriaging/csvdata/test.csv\")\n",
    "#df_data = df_data[df_data['description'].notna()].reset_index(drop=True)\n",
    "len(df_data)"
   ]
  },
  {
   "cell_type": "code",
   "execution_count": 18,
   "metadata": {},
   "outputs": [
    {
     "data": {
      "text/plain": [
       "1044"
      ]
     },
     "execution_count": 18,
     "metadata": {},
     "output_type": "execute_result"
    }
   ],
   "source": [
    "len(df_is_wth_commf)"
   ]
  },
  {
   "cell_type": "code",
   "execution_count": 19,
   "metadata": {},
   "outputs": [
    {
     "name": "stdout",
     "output_type": "stream",
     "text": [
      "Nan in each columns\n",
      "component      0\n",
      "category_id    0\n",
      "description    0\n",
      "dtype: int64\n"
     ]
    }
   ],
   "source": [
    "df_data=df_data[['component','category_id','description']]\n",
    "#df_data.head()\n",
    "print(\"Nan in each columns\" , df_data.isnull().sum(), sep='\\n')"
   ]
  },
  {
   "cell_type": "code",
   "execution_count": 20,
   "metadata": {},
   "outputs": [
    {
     "name": "stdout",
     "output_type": "stream",
     "text": [
      "Each of the 1044 bugs is represented by 4794 features (TF-IDF score of unigrams and bigrams)\n"
     ]
    }
   ],
   "source": [
    "tfidf = TfidfVectorizer(sublinear_tf=True, min_df=5,\n",
    "                        ngram_range=(1, 2), \n",
    "                        stop_words='english')\n",
    "\n",
    "# We transform each dexcription into a vector\n",
    "features = tfidf.fit_transform(df_data.description).toarray()\n",
    "\n",
    "labels = df_data.category_id\n",
    "\n",
    "print(\"Each of the %d bugs is represented by %d features (TF-IDF score of unigrams and bigrams)\" %(features.shape))"
   ]
  },
  {
   "cell_type": "code",
   "execution_count": 21,
   "metadata": {},
   "outputs": [
    {
     "name": "stdout",
     "output_type": "stream",
     "text": [
      "\n",
      "==> Build:\n",
      "  * Most Correlated Unigrams are: surefire, launcher, assembly\n",
      "  * Most Correlated Bigrams are: archiva consumer, committed thanks, assembly plugin\n",
      "\n",
      "==> Documentation:\n",
      "  * Most Correlated Unigrams are: site, screenshots, documentation\n",
      "  * Most Correlated Bigrams are: update documentation, archiva apache, archiva site\n",
      "\n",
      "==> Users/Security:\n",
      "  * Most Correlated Unigrams are: roles, redback, ldap\n",
      "  * Most Correlated Bigrams are: ldap users, security properties, using ldap\n",
      "\n",
      "==> browser and search:\n",
      "  * Most Correlated Unigrams are: indexing, index, indexer\n",
      "  * Most Correlated Bigrams are: apache lucene, nexus index, nexus indexer\n",
      "\n",
      "==> others:\n",
      "  * Most Correlated Unigrams are: managedrepositorycontent, artifactreference, calls\n",
      "  * Most Correlated Bigrams are: code error, maven use, artifact types\n",
      "\n",
      "==> remote proxy:\n",
      "  * Most Correlated Unigrams are: defaultrepositoryproxyconnectors, remote, proxy\n",
      "  * Most Correlated Bigrams are: proxy defaultrepositoryproxyconnectors, wagon http, archiva proxy\n",
      "\n",
      "==> reporting and logging:\n",
      "  * Most Correlated Unigrams are: jasper, report, reports\n",
      "  * Most Correlated Bigrams are: total file, unit tests, web page\n",
      "\n",
      "==> repository:\n",
      "  * Most Correlated Unigrams are: repoclean, purge, scanned\n",
      "  * Most Correlated Bigrams are: repository scanner, metadata updater, repository purge\n",
      "\n",
      "==> system:\n",
      "  * Most Correlated Unigrams are: tm, revise, wrapper\n",
      "  * Most Correlated Bigrams are: org quartz, admin repositories, plexus spring\n",
      "\n",
      "==> web:\n",
      "  * Most Correlated Unigrams are: paginate, jsp, upload\n",
      "  * Most Correlated Bigrams are: inf jsp, search page, new ui\n"
     ]
    }
   ],
   "source": [
    "# Finding the three most correlated terms with each of the component categories\n",
    "N = 3\n",
    "for Product, category_id in sorted(category_to_id.items()):\n",
    "  features_chi2 = chi2(features, labels == category_id)\n",
    "  indices = np.argsort(features_chi2[0])\n",
    "  feature_names = np.array(tfidf.get_feature_names())[indices]\n",
    "  unigrams = [v for v in feature_names if len(v.split(' ')) == 1]\n",
    "  bigrams = [v for v in feature_names if len(v.split(' ')) == 2]\n",
    "  print(\"\\n==> %s:\" %(Product))\n",
    "  print(\"  * Most Correlated Unigrams are: %s\" %(', '.join(unigrams[-N:])))\n",
    "  print(\"  * Most Correlated Bigrams are: %s\" %(', '.join(bigrams[-N:])))"
   ]
  },
  {
   "cell_type": "code",
   "execution_count": 23,
   "metadata": {},
   "outputs": [],
   "source": [
    "#Spliting the data into train and test sets\n",
    "X = df_data['description'] # Collection of documents\n",
    "y = df_data['component'] # Target or the labels we want to predict (i.e., the 13 different complaints of products)\n",
    "\n",
    "#model evaluation\n",
    "X_train, X_test, y_train, y_test,indices_train,indices_test = train_test_split(features, \n",
    "                                                               labels, \n",
    "                                                               df_data.index, test_size=0.25, \n",
    "                                                               random_state=1)\n",
    "model = LinearSVC()\n",
    "model.fit(X_train, y_train)\n",
    "y_pred = model.predict(X_test)"
   ]
  },
  {
   "cell_type": "code",
   "execution_count": 25,
   "metadata": {},
   "outputs": [
    {
     "name": "stderr",
     "output_type": "stream",
     "text": [
      "C:\\Users\\gtewa\\Anaconda3\\lib\\site-packages\\ipykernel_launcher.py:6: FutureWarning: Sorting because non-concatenation axis is not aligned. A future version\n",
      "of pandas will change to not sort by default.\n",
      "\n",
      "To accept the future behavior, pass 'sort=True'.\n",
      "\n",
      "To retain the current behavior and silence the warning, pass sort=False\n",
      "\n",
      "  \n"
     ]
    },
    {
     "data": {
      "text/html": [
       "<div>\n",
       "<style scoped>\n",
       "    .dataframe tbody tr th:only-of-type {\n",
       "        vertical-align: middle;\n",
       "    }\n",
       "\n",
       "    .dataframe tbody tr th {\n",
       "        vertical-align: top;\n",
       "    }\n",
       "\n",
       "    .dataframe thead th {\n",
       "        text-align: right;\n",
       "    }\n",
       "</style>\n",
       "<table border=\"1\" class=\"dataframe\">\n",
       "  <thead>\n",
       "    <tr style=\"text-align: right;\">\n",
       "      <th></th>\n",
       "      <th>issue_id</th>\n",
       "      <th>component</th>\n",
       "      <th>description</th>\n",
       "      <th>category_id</th>\n",
       "      <th>category_id</th>\n",
       "      <th>y</th>\n",
       "    </tr>\n",
       "  </thead>\n",
       "  <tbody>\n",
       "    <tr>\n",
       "      <th>0</th>\n",
       "      <td>MRM-402</td>\n",
       "      <td>web</td>\n",
       "      <td>javadoc jar is listed as just jar in the downl...</td>\n",
       "      <td>0</td>\n",
       "      <td>0</td>\n",
       "      <td>0</td>\n",
       "    </tr>\n",
       "    <tr>\n",
       "      <th>1</th>\n",
       "      <td>MRM-493</td>\n",
       "      <td>remote proxy</td>\n",
       "      <td>Downloaded artifacts are stored in incorrect a...</td>\n",
       "      <td>1</td>\n",
       "      <td>1</td>\n",
       "      <td>1</td>\n",
       "    </tr>\n",
       "    <tr>\n",
       "      <th>2</th>\n",
       "      <td>MRM-452</td>\n",
       "      <td>repository</td>\n",
       "      <td>repository purge consumer should check that it...</td>\n",
       "      <td>2</td>\n",
       "      <td>2</td>\n",
       "      <td>2</td>\n",
       "    </tr>\n",
       "    <tr>\n",
       "      <th>3</th>\n",
       "      <td>MRM-420</td>\n",
       "      <td>remote proxy</td>\n",
       "      <td>Editing a network proxy creates a new network ...</td>\n",
       "      <td>1</td>\n",
       "      <td>1</td>\n",
       "      <td>0</td>\n",
       "    </tr>\n",
       "    <tr>\n",
       "      <th>4</th>\n",
       "      <td>MRM-420</td>\n",
       "      <td>web</td>\n",
       "      <td>Editing a network proxy creates a new network ...</td>\n",
       "      <td>0</td>\n",
       "      <td>0</td>\n",
       "      <td>0</td>\n",
       "    </tr>\n",
       "  </tbody>\n",
       "</table>\n",
       "</div>"
      ],
      "text/plain": [
       "  issue_id     component                                        description  \\\n",
       "0  MRM-402           web  javadoc jar is listed as just jar in the downl...   \n",
       "1  MRM-493  remote proxy  Downloaded artifacts are stored in incorrect a...   \n",
       "2  MRM-452    repository  repository purge consumer should check that it...   \n",
       "3  MRM-420  remote proxy  Editing a network proxy creates a new network ...   \n",
       "4  MRM-420           web  Editing a network proxy creates a new network ...   \n",
       "\n",
       "   category_id  category_id  y  \n",
       "0            0            0  0  \n",
       "1            1            1  1  \n",
       "2            2            2  2  \n",
       "3            1            1  0  \n",
       "4            0            0  0  "
      ]
     },
     "execution_count": 25,
     "metadata": {},
     "output_type": "execute_result"
    }
   ],
   "source": [
    "#Merge the predicted result into actual dataframe\n",
    "df= pd.DataFrame(columns =['y'], index=indices_test)\n",
    "df['y']=y_pred\n",
    "df1= pd.DataFrame(columns =['y0'], index=indices_train)\n",
    "df1['y']=y_train\n",
    "df_result= pd.concat([df,df1])\n",
    "df_result = df_result[['y']]\n",
    "df_result= pd.concat([df_result,df_data],axis=1)\n",
    "df_result=df_result[['description','category_id','y']]\n",
    "df_result= pd.concat([df_is_wth_commf,df_result],axis=1)\n",
    "df_result=df_result[['issue_id','component','description','category_id','y']]\n",
    "df_result.to_csv(\"C:/Garima/AI/AIBugTriaging/csvdata/results.csv\")\n",
    "df_result.head()"
   ]
  },
  {
   "cell_type": "code",
   "execution_count": 26,
   "metadata": {},
   "outputs": [],
   "source": [
    "y_predtrain = model.predict(X_train)"
   ]
  },
  {
   "cell_type": "code",
   "execution_count": 27,
   "metadata": {},
   "outputs": [
    {
     "name": "stdout",
     "output_type": "stream",
     "text": [
      "\t\t\t\tCLASSIFICATIION METRICS\n",
      "\n",
      "                       precision    recall  f1-score   support\n",
      "\n",
      "                  web       0.94      0.96      0.95       272\n",
      "         remote proxy       0.95      0.93      0.94        58\n",
      "           repository       0.93      0.94      0.94       105\n",
      "        Documentation       0.96      0.94      0.95        49\n",
      "   browser and search       0.95      0.95      0.95       112\n",
      "               system       0.94      0.87      0.91        55\n",
      "       Users/Security       0.88      0.94      0.91        71\n",
      "                Build       0.94      0.91      0.93        34\n",
      "               others       1.00      0.57      0.73         7\n",
      "reporting and logging       1.00      0.95      0.97        20\n",
      "\n",
      "          avg / total       0.94      0.94      0.94       783\n",
      "\n"
     ]
    }
   ],
   "source": [
    "# Classification report\n",
    "print('\\t\\t\\t\\tCLASSIFICATIION METRICS\\n')\n",
    "print(metrics.classification_report(y_train, y_predtrain, \n",
    "                                    target_names= df_data['component'].unique()))"
   ]
  },
  {
   "cell_type": "code",
   "execution_count": 28,
   "metadata": {},
   "outputs": [
    {
     "data": {
      "image/png": "[encoded data removed]",
      "text/plain": [
       "<Figure size 576x576 with 2 Axes>"
      ]
     },
     "metadata": {},
     "output_type": "display_data"
    }
   ],
   "source": [
    "#confusion matrix\n",
    "conf_mat = confusion_matrix(y_train, y_predtrain)\n",
    "fig, ax = plt.subplots(figsize=(8,8))\n",
    "sns.heatmap(conf_mat, annot=True, cmap=\"Blues\", fmt='d',\n",
    "            xticklabels=category_id_df.component.values, \n",
    "            yticklabels=category_id_df.component.values)\n",
    "plt.ylabel('Actual')\n",
    "plt.xlabel('Predicted')\n",
    "plt.title(\"CONFUSION MATRIX - LinearSVC\\n\", size=16);"
   ]
  },
  {
   "cell_type": "code",
   "execution_count": 29,
   "metadata": {},
   "outputs": [
    {
     "name": "stdout",
     "output_type": "stream",
     "text": [
      "\n",
      "==> 'Build':\n",
      "  * Top unigrams: windows, resources, license, assembly\n",
      "  * Top bigrams: assembly plugin, archiva common, maven plugin, committed thanks\n",
      "\n",
      "==> 'Documentation':\n",
      "  * Top unigrams: documentation, site, guide, screenshots\n",
      "  * Top bigrams: archiva site, archiva apache, update documentation, apache org\n",
      "\n",
      "==> 'Users/Security':\n",
      "  * Top unigrams: redback, ldap, user, users\n",
      "  * Top bigrams: global repository, account locked, archiva security, using ldap\n",
      "\n",
      "==> 'browser and search':\n",
      "  * Top unigrams: indexer, index, search, indexing\n",
      "  * Top bigrams: search results, dependency graph, browse repository, archiva browse\n",
      "\n",
      "==> 'others':\n",
      "  * Top unigrams: profile, model, failed, extensions\n",
      "  * Top bigrams: archiva redback, applied branch, maven shared, maven use\n",
      "\n",
      "==> 'remote proxy':\n",
      "  * Top unigrams: proxy, remote, proxying, defaultrepositoryproxyconnectors\n",
      "  * Top bigrams: wagon http, archiva proxy, plugin maven, remote repositories\n",
      "\n",
      "==> 'reporting and logging':\n",
      "  * Top unigrams: reports, report, reporting, unit\n",
      "  * Top bigrams: unit tests, web page, applied thanks, total file\n",
      "\n",
      "==> 'repository':\n",
      "  * Top unigrams: scanned, repository, repoclean, repo\n",
      "  * Top bigrams: index repository, checksum files, version archiva, metadata updater\n",
      "\n",
      "==> 'system':\n",
      "  * Top unigrams: wrapper, allow, scheduler, revise\n",
      "  * Top bigrams: admin repositories, plexus spring, archiva log, org quartz\n",
      "\n",
      "==> 'web':\n",
      "  * Top unigrams: webdav, url, page, upload\n",
      "  * Top bigrams: new ui, version artifact, search page, jetty run\n"
     ]
    }
   ],
   "source": [
    "#most correlated term with each category\n",
    "model.fit(features, labels)\n",
    "\n",
    "N = 4\n",
    "for Product, category_id in sorted(category_to_id.items()):\n",
    "  indices = np.argsort(model.coef_[category_id])\n",
    "  feature_names = np.array(tfidf.get_feature_names())[indices]\n",
    "  unigrams = [v for v in reversed(feature_names) if len(v.split(' ')) == 1][:N]\n",
    "  bigrams = [v for v in reversed(feature_names) if len(v.split(' ')) == 2][:N]\n",
    "  print(\"\\n==> '{}':\".format(Product))\n",
    "  print(\"  * Top unigrams: %s\" %(', '.join(unigrams)))\n",
    "  print(\"  * Top bigrams: %s\" %(', '.join(bigrams)))"
   ]
  },
  {
   "cell_type": "code",
   "execution_count": null,
   "metadata": {},
   "outputs": [],
   "source": []
  }
 ],
 "metadata": {
  "kernelspec": {
   "display_name": "Python 3",
   "language": "python",
   "name": "python3"
  },
  "language_info": {
   "codemirror_mode": {
    "name": "ipython",
    "version": 3
   },
   "file_extension": ".py",
   "mimetype": "text/x-python",
   "name": "python",
   "nbconvert_exporter": "python",
   "pygments_lexer": "ipython3",
   "version": "3.6.5"
  }
 },
 "nbformat": 4,
 "nbformat_minor": 2
}
